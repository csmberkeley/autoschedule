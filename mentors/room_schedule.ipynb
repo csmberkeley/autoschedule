{
 "cells": [
  {
   "cell_type": "markdown",
   "metadata": {},
   "source": [
    "# Room Schedule\n",
    "\n",
    "Schedule teachers to rooms at their preferred times. In this system, **Events** (*sections*) are scheduled based on the limited availability of **Slots** (*rooms*). The time scale is at a week-to-week granularity, so special exceptions to the schedule must be handled outside of the system.\n",
    "\n",
    "A user specifies how many sections they would like to teach and lists their preferred times through a separate form or interface. The data is then collected and onboarded as a Pandas DataFrame. Additional transformations are applied as necessary to massage the data into the right format so that the problem can be properly formulated."
   ]
  },
  {
   "cell_type": "markdown",
   "metadata": {},
   "source": [
    "## Setup\n",
    "\n",
    "Import the required packages into the namespace."
   ]
  },
  {
   "cell_type": "code",
   "execution_count": null,
   "metadata": {},
   "outputs": [],
   "source": [
    "from conference_scheduler import scheduler\n",
    "from conference_scheduler.resources import Slot, Event\n",
    "\n",
    "from datetime import date, time, datetime, timedelta\n",
    "from dateutil import parser, rrule\n",
    "import numpy as np\n",
    "import pandas as pd\n",
    "import yaml\n",
    "\n",
    "from collections import OrderedDict\n",
    "from typing import NamedTuple\n",
    "import itertools"
   ]
  },
  {
   "cell_type": "markdown",
   "metadata": {},
   "source": [
    "### Conference Scheduler extensions\n",
    "\n",
    "Add support for `Slot.starts_at` time preferences.\n",
    "\n",
    "1. Subclass `conference_scheduler.resources.Event` to carry the `datetime` (not `Slot`!) preference data.\n",
    "2. A `conference_scheduler.resources.Slot`-compatible type to carry `penalty` room data.\n",
    "3. Define a new minimizing objective function for PuLP."
   ]
  },
  {
   "cell_type": "code",
   "execution_count": null,
   "metadata": {},
   "outputs": [],
   "source": [
    "class Course(NamedTuple):\n",
    "    name: str\n",
    "    duration: int\n",
    "    demand: int\n",
    "\n",
    "COURSES = {\n",
    "    'CS 61A': Course('CS 61A', 60, 4),\n",
    "    'CS 61B': Course('CS 61B', 60, 6),\n",
    "    'CS 70' : Course('CS 70',  90, 6),\n",
    "    'EE 16A': Course('EE 16A', 90, 6),\n",
    "}\n",
    "\n",
    "class Section(Event):\n",
    "    \"\"\"A section that needs to be scheduled.\"\"\"\n",
    "\n",
    "    # Preferred, Backup, If need be\n",
    "    penalties, baseline_penalty = (0, 1.5), 3\n",
    "\n",
    "    def __init__(self, name, course, tags=None, unavailability=None, preferences=None):\n",
    "        \"\"\"\n",
    "        Section constructor. Course is one of the defined keys in COURSES while preferences is\n",
    "        a zip of each list of start times with their corresponding penalties.\n",
    "        \"\"\"\n",
    "        self.course = COURSES[course]\n",
    "        super().__init__(name, self.course.duration, self.course.demand, tags, unavailability)\n",
    "        if preferences is None:\n",
    "            preferences = []\n",
    "        self._preferences = tuple(preferences)\n",
    "\n",
    "    def penalty(self, space):\n",
    "        size_penalty = self.demand - space.capacity\n",
    "        for starts, penalty in self._preferences:\n",
    "            if space.starts_at in starts:\n",
    "                return penalty + size_penalty + space.penalty\n",
    "        return self.baseline_penalty + size_penalty + space.penalty\n",
    "\n",
    "class Space(NamedTuple):\n",
    "    \"\"\"A slot with a potential penalty for using the space.\"\"\"\n",
    "    venue: str\n",
    "    starts_at: datetime\n",
    "    duration: int\n",
    "    capacity: int\n",
    "    session: str = None\n",
    "    penalty: int = 0"
   ]
  },
  {
   "cell_type": "code",
   "execution_count": null,
   "metadata": {},
   "outputs": [],
   "source": [
    "def section_preference(slots, events, X, **kwargs):\n",
    "    \"\"\"\n",
    "    Returns a function that calculates the section preference, taking into account the\n",
    "    total difference between demand for an event and the slot capacity it is scheduled in.\n",
    "    \"\"\"\n",
    "    return sum(max(section.penalty(slot), 0) * X[row, col]\n",
    "               for row, section in enumerate(events)\n",
    "               for col, slot in enumerate(slots))"
   ]
  },
  {
   "cell_type": "markdown",
   "metadata": {},
   "source": [
    "## Input data"
   ]
  },
  {
   "cell_type": "markdown",
   "metadata": {},
   "source": [
    "### Generate `Space` objects\n",
    "\n",
    "Define the room availability for each room for the timeslots in which they're normally available each week. For each room availability range, we can divide them up into both 1-hour or 1.5-hour long blocks."
   ]
  },
  {
   "cell_type": "code",
   "execution_count": null,
   "metadata": {},
   "outputs": [],
   "source": [
    "START       = datetime(2018, 2, 5, 8)\n",
    "END         = START + timedelta(days=5)\n",
    "VALID_HOURS = range(8, 12 + 8)\n",
    "PERIODS     = {\n",
    "    60: rrule.rrule(rrule.HOURLY, byhour=VALID_HOURS,\n",
    "                    dtstart=START, until=END, cache=True),\n",
    "    90: rrule.rrule(rrule.MINUTELY, interval=90, byhour=VALID_HOURS,\n",
    "                    dtstart=START, until=END, cache=True),\n",
    "}\n",
    "\n",
    "def starts(time_range, periods=PERIODS.items(), start=START, split_on='/'):\n",
    "    \"\"\"Yield the start and duration for each periodic subdivision of the time range.\"\"\"\n",
    "    start, end = (parser.parse(time, default=start) for time in time_range.split(split_on))\n",
    "    assert start < end\n",
    "    for duration, rule in periods:\n",
    "        for starts_at in rule.between(start, end, inc=True):\n",
    "            if starts_at + timedelta(minutes=duration) <= end:\n",
    "                yield starts_at, duration"
   ]
  },
  {
   "cell_type": "markdown",
   "metadata": {},
   "source": [
    "Data is imported from a `rooms.yml` YAML data file in the following format.\n",
    "\n",
    "```yaml\n",
    "Soda 283F:\n",
    "    capacity: 4\n",
    "    availability:\n",
    "        - Mon 8am / Mon 12pm\n",
    "```\n",
    "\n",
    "The `availability` time range can be in any `dateutil.parser`-supported format separated by forward slash."
   ]
  },
  {
   "cell_type": "code",
   "execution_count": null,
   "metadata": {},
   "outputs": [],
   "source": [
    "SPLIT_ON = '/'"
   ]
  },
  {
   "cell_type": "code",
   "execution_count": null,
   "metadata": {},
   "outputs": [],
   "source": [
    "with open('rooms.yml') as f:\n",
    "    rooms = yaml.load(f)"
   ]
  },
  {
   "cell_type": "code",
   "execution_count": null,
   "metadata": {},
   "outputs": [],
   "source": [
    "slots = [\n",
    "    (Space(room_name, starts_at, duration, room['capacity'])\n",
    "     if 'penalty' not in room else\n",
    "     Space(room_name, starts_at, duration, room['capacity'], penalty=room['penalty']))\n",
    "    for room_name, room in rooms.items()\n",
    "    for availability in room['availability']\n",
    "    for starts_at, duration in starts(availability, split_on=SPLIT_ON)\n",
    "]"
   ]
  },
  {
   "cell_type": "markdown",
   "metadata": {},
   "source": [
    "### Generate `Section` objects\n",
    "\n",
    "There are two ways of defining sections.\n",
    "\n",
    "1. Sections are predetermined and already set.\n",
    "2. Data is collected from a Google Form. We then determine the optimal sectio nallocation according to the room availability.\n",
    "\n",
    "In both scenarios, a list of `sections` will be generated."
   ]
  },
  {
   "cell_type": "code",
   "execution_count": null,
   "metadata": {},
   "outputs": [],
   "source": [
    "sections = []"
   ]
  },
  {
   "cell_type": "markdown",
   "metadata": {},
   "source": [
    "Import the `roster` to validate entries."
   ]
  },
  {
   "cell_type": "code",
   "execution_count": null,
   "metadata": {},
   "outputs": [],
   "source": [
    "roster = pd.read_csv('roster.csv', dtype=str)"
   ]
  },
  {
   "cell_type": "code",
   "execution_count": null,
   "metadata": {},
   "outputs": [],
   "source": [
    "def validate(emails, roster=roster['Email']):\n",
    "    return pd.concat([emails, emails.isin(roster).rename('Roster')], axis=1)"
   ]
  },
  {
   "cell_type": "markdown",
   "metadata": {},
   "source": [
    "#### Importing already-defined sections"
   ]
  },
  {
   "cell_type": "code",
   "execution_count": null,
   "metadata": {},
   "outputs": [],
   "source": [
    "EMAIL  = 'Email Address'\n",
    "NAME   = 'Name'\n",
    "COURSE = 'Course'\n",
    "TIME   = 'Time'"
   ]
  },
  {
   "cell_type": "code",
   "execution_count": null,
   "metadata": {},
   "outputs": [],
   "source": [
    "section_schedule = pd.read_csv('section-schedule.csv', dtype=str).rename(\n",
    "    columns={EMAIL: 'Email'}\n",
    ")"
   ]
  },
  {
   "cell_type": "code",
   "execution_count": null,
   "metadata": {},
   "outputs": [],
   "source": [
    "valid = validate(section_schedule['Email'])\n",
    "if len(valid[~valid['Roster']]) > 0:\n",
    "    valid[~valid['Roster']]"
   ]
  },
  {
   "cell_type": "code",
   "execution_count": null,
   "metadata": {},
   "outputs": [],
   "source": [
    "sections += [\n",
    "    Section(name=getattr(row, 'Email'),\n",
    "            course=getattr(row, COURSE),\n",
    "            unavailability=[\n",
    "                slot for slot in slots\n",
    "                if slot.starts_at != parser.parse(getattr(row, TIME), default=START)\n",
    "            ],\n",
    "            preferences=[\n",
    "                ([parser.parse(getattr(row, TIME), default=START)],\n",
    "                 Section.penalties[0]),\n",
    "            ]\n",
    "           ) for row in section_schedule.itertuples(index=False)\n",
    "]"
   ]
  },
  {
   "cell_type": "markdown",
   "metadata": {},
   "source": [
    "#### Generating sections from preferences"
   ]
  },
  {
   "cell_type": "code",
   "execution_count": null,
   "metadata": {},
   "outputs": [],
   "source": [
    "EMAIL     = 'Email Address'\n",
    "COURSE    = 'Course'\n",
    "ROOMS     = 'Rooms Desired'\n",
    "PREFERRED = 'Preferred'\n",
    "BACKUP    = 'Backup'\n",
    "BASELINE  = 'Other'\n",
    "DAYS      = ('Monday', 'Tuesday', 'Wednesday', 'Thursday', 'Friday')\n",
    "\n",
    "SPLIT_ON  = ', '"
   ]
  },
  {
   "cell_type": "markdown",
   "metadata": {},
   "source": [
    "Load the data into the environment from the exported `preferences.csv` and compress the preferences so that duplicate columns are merged."
   ]
  },
  {
   "cell_type": "code",
   "execution_count": null,
   "metadata": {},
   "outputs": [],
   "source": [
    "preferences = pd.read_csv('preferences.csv', dtype=str).rename(\n",
    "    columns={EMAIL: 'Email', COURSE: 'Course', ROOMS: 'Rooms'}\n",
    ")"
   ]
  },
  {
   "cell_type": "code",
   "execution_count": null,
   "metadata": {},
   "outputs": [],
   "source": [
    "valid = validate(preferences['Email'])\n",
    "if len(valid[~valid['Roster']]) > 0:\n",
    "    valid[~valid['Roster']]"
   ]
  },
  {
   "cell_type": "markdown",
   "metadata": {},
   "source": [
    "Filter for only the courses we want to schedule."
   ]
  },
  {
   "cell_type": "code",
   "execution_count": null,
   "metadata": {},
   "outputs": [],
   "source": [
    "preferences = preferences[\n",
    "    (preferences['Course'] == 'CS 61B')\n",
    "]"
   ]
  },
  {
   "cell_type": "code",
   "execution_count": null,
   "metadata": {},
   "outputs": [],
   "source": [
    "preferences = pd.concat([\n",
    "    preferences[['Email', 'Course', 'Rooms']],\n",
    "    pd.DataFrame(\n",
    "        data=OrderedDict(\n",
    "            (f'{pref}_{day}',\n",
    "             (preferences\n",
    "              .loc[:, preferences.columns.str.startswith(f'{pref} [{day}]')]\n",
    "              .stack()\n",
    "              .reset_index(1, drop=True)\n",
    "             ))\n",
    "            for pref in (PREFERRED, BACKUP, BASELINE) for day in DAYS\n",
    "        )\n",
    "    )\n",
    "], axis=1).fillna('')"
   ]
  },
  {
   "cell_type": "code",
   "execution_count": null,
   "metadata": {
    "scrolled": true
   },
   "outputs": [],
   "source": [
    "preferences.head()"
   ]
  },
  {
   "cell_type": "markdown",
   "metadata": {},
   "source": [
    "Define a function which can take a single row in the submitted by a user and expand it into as many `Section` objects as necessary. Preferences are expressed as `datetime` objects while the `unavailability` is given as a Python list of incompatible `Slot` and `Section` objects."
   ]
  },
  {
   "cell_type": "code",
   "execution_count": null,
   "metadata": {},
   "outputs": [],
   "source": [
    "def bounds(columns, column):\n",
    "    \"\"\"\n",
    "    Return a two-element array containing the indices bounding the\n",
    "    column from columns, including an offset for the index.\n",
    "    \"\"\"\n",
    "    indices = np.where(columns.str.startswith(column))[0]\n",
    "    return (indices[0], indices[-1] + 1)\n",
    "\n",
    "def parse_datetimes(timestrs, days=DAYS, start=START, split_on=', '):\n",
    "    \"\"\"Return the datetimes from the given days and time strings.\"\"\"\n",
    "    return [\n",
    "        parser.parse(f'{day} {time}', default=start)\n",
    "        for day, times in zip(days, timestrs)\n",
    "        for time in times.split(split_on)\n",
    "        if times\n",
    "    ]\n",
    "\n",
    "def make_sections(columns, slots, extract=[PREFERRED, BACKUP, BASELINE], split_on=', '):\n",
    "    \"\"\"Return a function which will yield Sections.\"\"\"\n",
    "    slices = {\n",
    "        column: slice(*bounds(columns, column)) for column in extract\n",
    "    }\n",
    "\n",
    "    def kwargs_from_row(row, penalties=Section.penalties):\n",
    "        \"\"\"Return the keyword arguments to be passed into the Section constructor.\"\"\"\n",
    "        kwargs = dict()\n",
    "        kwargs['name'] = getattr(row, 'Email')\n",
    "        kwargs['course'] = getattr(row, 'Course')\n",
    "        preferences = [\n",
    "            parse_datetimes(row[slices[column]], split_on=SPLIT_ON) for column in extract\n",
    "        ]\n",
    "        kwargs['unavailability'] = [\n",
    "            slot for slot in slots if slot.starts_at not in set().union(*preferences)\n",
    "        ]\n",
    "        kwargs['preferences'] = zip(preferences, penalties)\n",
    "        return kwargs\n",
    "\n",
    "    def sections_from_row(row):\n",
    "        \"\"\"Yield a Section for each desired room.\"\"\"\n",
    "        kwargs = kwargs_from_row(row)\n",
    "        sections = []\n",
    "        for _ in range(int(getattr(row, 'Rooms'))):\n",
    "            section = Section(**kwargs)\n",
    "            section.add_unavailability(*sections)\n",
    "            yield section\n",
    "            sections += [section]\n",
    "\n",
    "    return sections_from_row\n",
    "\n",
    "sections_from_row = make_sections(preferences.columns, slots, split_on=SPLIT_ON)"
   ]
  },
  {
   "cell_type": "code",
   "execution_count": null,
   "metadata": {
    "scrolled": true
   },
   "outputs": [],
   "source": [
    "sections += list(\n",
    "    itertools.chain.from_iterable(\n",
    "        sections_from_row(row) for row in preferences.itertuples(index=False)\n",
    "    )\n",
    ")"
   ]
  },
  {
   "cell_type": "markdown",
   "metadata": {},
   "source": [
    "## Solve the schedule"
   ]
  },
  {
   "cell_type": "code",
   "execution_count": null,
   "metadata": {},
   "outputs": [],
   "source": [
    "schedule = scheduler.schedule(sections, slots, objective_function=section_preference)"
   ]
  },
  {
   "cell_type": "markdown",
   "metadata": {},
   "source": [
    "### Export schedule"
   ]
  },
  {
   "cell_type": "code",
   "execution_count": null,
   "metadata": {},
   "outputs": [],
   "source": [
    "room_schedule = pd.DataFrame.from_records([\n",
    "    (\n",
    "        item.event.name,\n",
    "        item.event.course.name,\n",
    "        item.slot.venue,\n",
    "        item.slot.capacity,\n",
    "        item.slot.starts_at\n",
    "    )\n",
    "    for item in schedule\n",
    "], columns=['Email Address', 'Course', 'Room', 'Capacity', 'Time'])"
   ]
  },
  {
   "cell_type": "code",
   "execution_count": null,
   "metadata": {},
   "outputs": [],
   "source": [
    "room_schedule"
   ]
  },
  {
   "cell_type": "code",
   "execution_count": null,
   "metadata": {},
   "outputs": [],
   "source": [
    "room_schedule.to_csv('room-schedule.csv', index=False)"
   ]
  }
 ],
 "metadata": {
  "kernelspec": {
   "display_name": "Python 3",
   "language": "python",
   "name": "python3"
  },
  "language_info": {
   "codemirror_mode": {
    "name": "ipython",
    "version": 3
   },
   "file_extension": ".py",
   "mimetype": "text/x-python",
   "name": "python",
   "nbconvert_exporter": "python",
   "pygments_lexer": "ipython3",
   "version": "3.6.3"
  }
 },
 "nbformat": 4,
 "nbformat_minor": 2
}
