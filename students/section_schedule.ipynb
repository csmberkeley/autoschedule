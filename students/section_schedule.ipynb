{
 "cells": [
  {
   "cell_type": "markdown",
   "metadata": {},
   "source": [
    "# Section Schedule\n",
    "\n",
    "Schedule students to sections based on their preferences."
   ]
  },
  {
   "cell_type": "markdown",
   "metadata": {},
   "source": [
    "## Setup\n",
    "\n",
    "Import the required packages into the namespace."
   ]
  },
  {
   "cell_type": "code",
   "execution_count": null,
   "metadata": {
    "collapsed": true
   },
   "outputs": [],
   "source": [
    "import difflib\n",
    "import os\n",
    "\n",
    "import numpy as np\n",
    "import pandas as pd\n",
    "\n",
    "import itertools\n",
    "from typing import NamedTuple"
   ]
  },
  {
   "cell_type": "code",
   "execution_count": null,
   "metadata": {
    "collapsed": true
   },
   "outputs": [],
   "source": [
    "CAPACITIES = {\n",
    "    'cs61a': 4,\n",
    "    'cs61b': 6,\n",
    "    'cs70' : 6,\n",
    "    'ee16a': 6,\n",
    "}\n",
    "COURSE = 'cs61a'"
   ]
  },
  {
   "cell_type": "code",
   "execution_count": null,
   "metadata": {
    "collapsed": true
   },
   "outputs": [],
   "source": [
    "def path(filename, directory=COURSE):\n",
    "    return os.path.join(directory, filename)"
   ]
  },
  {
   "cell_type": "code",
   "execution_count": null,
   "metadata": {
    "collapsed": true
   },
   "outputs": [],
   "source": [
    "SEED = sum(ord(c) for c in 'Computer Science Mentors')"
   ]
  },
  {
   "cell_type": "markdown",
   "metadata": {},
   "source": [
    "## Section schedule"
   ]
  },
  {
   "cell_type": "code",
   "execution_count": null,
   "metadata": {
    "collapsed": true
   },
   "outputs": [],
   "source": [
    "CODE   = 'Code'\n",
    "EMAIL  = 'Email Address'\n",
    "COURSE = 'Course'\n",
    "ROOM   = 'Room'\n",
    "CAP    = 'Capacity'\n",
    "TIME   = 'Time'"
   ]
  },
  {
   "cell_type": "markdown",
   "metadata": {},
   "source": [
    "Import an existing schedule, if it exists.\n",
    "\n",
    "Section data should be specified in the format,\n",
    "\n",
    "```\n",
    "'Email Address', 'Course', 'Room', 'Capacity', 'Time'\n",
    "```\n",
    "\n",
    "Capacity is important as we need to determine how many students can enroll into that section. If no capacity for a room is provided (or a non-integer capacity), then we will use the default capacity specified above per course."
   ]
  },
  {
   "cell_type": "markdown",
   "metadata": {},
   "source": [
    "### Using an existing schedule"
   ]
  },
  {
   "cell_type": "code",
   "execution_count": null,
   "metadata": {
    "collapsed": true
   },
   "outputs": [],
   "source": [
    "section_schedule = pd.read_csv(path('section-schedule.csv'), dtype=str).set_index(CODE)\n",
    "section_schedule.head()"
   ]
  },
  {
   "cell_type": "markdown",
   "metadata": {},
   "source": [
    "### Generating control codes"
   ]
  },
  {
   "cell_type": "code",
   "execution_count": null,
   "metadata": {
    "collapsed": true
   },
   "outputs": [],
   "source": [
    "def generate_control_code(row, length=6):\n",
    "    \"\"\"Return a control code of the desired length, zero-padded as necessary.\"\"\"\n",
    "    return str(abs(hash(tuple(row))))[:length].zfill(length)"
   ]
  },
  {
   "cell_type": "code",
   "execution_count": null,
   "metadata": {
    "collapsed": true
   },
   "outputs": [],
   "source": [
    "section_schedule = pd.read_csv(path('room-schedule.csv'))\n",
    "section_schedule[CODE] = section_schedule.apply(generate_control_code, axis=1, raw=True)\n",
    "section_schedule = section_schedule.set_index(CODE)\n",
    "section_schedule.head()"
   ]
  },
  {
   "cell_type": "markdown",
   "metadata": {},
   "source": [
    "#### Manually define a few sections"
   ]
  },
  {
   "cell_type": "code",
   "execution_count": null,
   "metadata": {
    "collapsed": true
   },
   "outputs": [],
   "source": [
    "manual_schedule = pd.DataFrame.from_records(\n",
    "    [\n",
    "        # ('Email', 'Course', 'Room', Capacity, 'Time'),\n",
    "    ],\n",
    "    columns=[EMAIL, COURSE, ROOM, CAP, TIME]\n",
    ")\n",
    "\n",
    "manual_schedule[CODE] = manual_schedule.apply(generate_control_code, axis=1, raw=True)\n",
    "manual_schedule = manual_schedule.set_index(CODE)\n",
    "manual_schedule"
   ]
  },
  {
   "cell_type": "markdown",
   "metadata": {},
   "source": [
    "#### Export schedule"
   ]
  },
  {
   "cell_type": "code",
   "execution_count": null,
   "metadata": {
    "collapsed": true
   },
   "outputs": [],
   "source": [
    "section_schedule[CODE].to_csv(path('control-codes.csv'), index=False)"
   ]
  },
  {
   "cell_type": "code",
   "execution_count": null,
   "metadata": {
    "collapsed": true
   },
   "outputs": [],
   "source": [
    "section_schedule.to_csv(path('section-schedule.csv'))"
   ]
  },
  {
   "cell_type": "markdown",
   "metadata": {},
   "source": [
    "## Input data\n",
    "\n",
    "Load student preferences from a Google Form.\n",
    "\n",
    "**The data must be downloaded directly from the Form, rather than a linked Google Sheet so that data is properly quoted.**"
   ]
  },
  {
   "cell_type": "code",
   "execution_count": null,
   "metadata": {
    "collapsed": true
   },
   "outputs": [],
   "source": [
    "EMAIL  = 'Username'\n",
    "COURSE = 'Course'\n",
    "FIRST  = 'First option'\n",
    "SECOND = 'Second option'\n",
    "THIRD  = 'Third option'\n",
    "BACKUP = 'Backup options'\n",
    "RANKS  = [FIRST, SECOND, THIRD]\n",
    "\n",
    "SPLIT_ON = r', ?'"
   ]
  },
  {
   "cell_type": "code",
   "execution_count": null,
   "metadata": {
    "collapsed": true
   },
   "outputs": [],
   "source": [
    "preferences = pd.read_csv(path('preferences.csv'), dtype=str)\n",
    "preferences = pd.concat([\n",
    "    preferences[[EMAIL, COURSE] + RANKS],\n",
    "    preferences[BACKUP].str.split(SPLIT_ON, expand=True).fillna('').astype(str)\n",
    "], axis=1).rename(columns=str).set_index(EMAIL)\n",
    "preferences.head()"
   ]
  },
  {
   "cell_type": "markdown",
   "metadata": {},
   "source": [
    "### Enrollment priority\n",
    "\n",
    "Give enrollment priority to a subset of the students."
   ]
  },
  {
   "cell_type": "code",
   "execution_count": null,
   "metadata": {
    "collapsed": true
   },
   "outputs": [],
   "source": [
    "EMAIL = 'Email Address'\n",
    "PREF  = 'Preferred'"
   ]
  },
  {
   "cell_type": "code",
   "execution_count": null,
   "metadata": {
    "collapsed": true
   },
   "outputs": [],
   "source": [
    "priority = pd.read_csv(path('priority.csv'), dtype=str)['Email']\n",
    "preferences.insert(1, PREF, preferences.index.isin(priority))\n",
    "preferences[preferences[PREF] == True].head()"
   ]
  },
  {
   "cell_type": "markdown",
   "metadata": {},
   "source": [
    "## Greedy algorithm\n",
    "\n",
    "Solve the problem using a simple greedy algorithm with randomized restarts."
   ]
  },
  {
   "cell_type": "code",
   "execution_count": null,
   "metadata": {
    "collapsed": true
   },
   "outputs": [],
   "source": [
    "class Solution(NamedTuple):\n",
    "    \"\"\"Solution to an assignment problem.\"\"\"\n",
    "    assignments: dict\n",
    "    stats: dict\n",
    "\n",
    "    def metric(self, weights={FIRST: 3, SECOND: 2, THIRD: 1}):\n",
    "        \"\"\"Assign weights to each rank to evaluate the quality of the solution.\"\"\"\n",
    "        return sum(count * weights[rank] for rank, count in self.stats.items())\n",
    "\n",
    "class Assignment(NamedTuple):\n",
    "    email: str\n",
    "    course: str\n",
    "\n",
    "def generate_preference_slice(preferences, first=FIRST, index=1):\n",
    "    return slice(pd.Index(preferences.columns).get_loc(first.lower()) + index,\n",
    "                 len(preferences.columns))"
   ]
  },
  {
   "cell_type": "markdown",
   "metadata": {},
   "source": [
    "### Validate the solution"
   ]
  },
  {
   "cell_type": "code",
   "execution_count": null,
   "metadata": {
    "collapsed": true
   },
   "outputs": [],
   "source": [
    "def validate(preferences, schedule, ranks=RANKS, preference_slice=None):\n",
    "    \"\"\"Validate the preferences to check for errors in student input.\"\"\"\n",
    "    preferences = preferences.rename(columns=str.lower)\n",
    "    schedule = schedule.rename(columns=str.lower)\n",
    "    if preference_slice is None:\n",
    "        preference_slice = generate_preference_slice(preferences)\n",
    "    def closest(key):\n",
    "        match = difflib.get_close_matches(key, schedule.index, n=1)\n",
    "        return match[0] if match else key\n",
    "    invalid = []\n",
    "    for row in preferences.itertuples():\n",
    "        for rank, preference in itertools.zip_longest(ranks, row[preference_slice]):\n",
    "            if not preference:\n",
    "                continue\n",
    "            elif preference not in schedule.index:\n",
    "                print(f'{row.Index}: {preference} not found in schedule')\n",
    "                invalid += [(row.Index, preference, closest(preference))]\n",
    "            elif row.course != schedule.loc[preference].course:\n",
    "                print(f'{row.Index}: {course} not found')\n",
    "                invalid += [(row.Index, preference, closest(preference))]\n",
    "    return pd.DataFrame.from_records(invalid, columns=['Email', 'Input', 'Match'])\n",
    "\n",
    "# TODO: Write a function to replace invalid entries in the preferences with their match."
   ]
  },
  {
   "cell_type": "code",
   "execution_count": null,
   "metadata": {
    "collapsed": true
   },
   "outputs": [],
   "source": [
    "validate(preferences, section_schedule)"
   ]
  },
  {
   "cell_type": "code",
   "execution_count": null,
   "metadata": {
    "collapsed": true
   },
   "outputs": [],
   "source": [
    "LIMIT = 1000\n",
    "rand = np.random.RandomState(SEED)"
   ]
  },
  {
   "cell_type": "code",
   "execution_count": null,
   "metadata": {
    "collapsed": true
   },
   "outputs": [],
   "source": [
    "def greedy(preferences, schedule, ranks=RANKS,default_cap=CAPACITIES[COURSE],\n",
    "           preference_slice=None):\n",
    "    \"\"\"Return a naive greedy algorithm for assigning each student in the preferences list\n",
    "    to a section in the schedule based on the ranks.\n",
    "    \"\"\"\n",
    "    preferences = preferences.rename(columns=str.lower)\n",
    "    schedule = schedule.rename(columns=str.lower)\n",
    "    if preference_slice is None:\n",
    "        preference_slice = generate_preference_slice(preferences)\n",
    "    if CAP in schedule.index:\n",
    "        enrolled = {code: capacity for code, capacity in schedule[[CAP]].itertuples()}\n",
    "    else:\n",
    "        enrolled = {code: 4 for code in schedule.index}\n",
    "    assignments = {}\n",
    "    stats = {rank: 0 for rank in ranks}\n",
    "    for row in preferences.itertuples():\n",
    "        assignment = Assignment(row.Index, row.course)\n",
    "        if assignment not in assignments:\n",
    "            for rank, preference in itertools.zip_longest(ranks, row[preference_slice]):\n",
    "                if (preference in schedule.index\n",
    "                    and row.course == schedule.loc[preference].course\n",
    "                    and enrolled[preference] > 0):\n",
    "                    # Make an assignment if the preference exists, matches the course, and\n",
    "                    # if there is space still left in the section\n",
    "                    assignments[assignment] = preference\n",
    "                    if rank in stats:\n",
    "                        stats[rank] += 1\n",
    "                    enrolled[preference] -= 1\n",
    "                    break\n",
    "    return Solution(assignments, stats)\n",
    "\n",
    "def sample(preferences, priority=None):\n",
    "    \"\"\"Resample the preferences, prioritizing by True/False column value.\"\"\"\n",
    "    if priority is None:\n",
    "        return preferences.sample(frac=1, random_state=rand)\n",
    "    return (preferences[preferences[priority]]\n",
    "            .sample(frac=1, random_state=rand)\n",
    "            .append(preferences[~preferences[priority]]\n",
    "                    .sample(frac=1, random_state=rand)))"
   ]
  },
  {
   "cell_type": "code",
   "execution_count": null,
   "metadata": {
    "collapsed": true
   },
   "outputs": [],
   "source": [
    "best = max((greedy(sample(preferences, priority=PREF), section_schedule)\n",
    "            for _ in range(LIMIT)), key=Solution.metric)\n",
    "best.stats"
   ]
  },
  {
   "cell_type": "code",
   "execution_count": null,
   "metadata": {
    "collapsed": true
   },
   "outputs": [],
   "source": [
    "len(best.assignments)"
   ]
  },
  {
   "cell_type": "markdown",
   "metadata": {},
   "source": [
    "## Simulated Annealing\n",
    "\n",
    "Implement a simulated annealing algorithm to improve upon the best greedy solution."
   ]
  },
  {
   "cell_type": "code",
   "execution_count": null,
   "metadata": {
    "collapsed": true
   },
   "outputs": [],
   "source": [
    "# TODO: Implement simulated annealing algorithm"
   ]
  },
  {
   "cell_type": "markdown",
   "metadata": {},
   "source": [
    "### Export schedule"
   ]
  },
  {
   "cell_type": "code",
   "execution_count": null,
   "metadata": {
    "collapsed": true
   },
   "outputs": [],
   "source": [
    "schedule = pd.DataFrame.from_records((\n",
    "    (assignment.email, section) + tuple(section_schedule.loc[section])\n",
    "    for assignment, section in best.assignments.items()\n",
    "), columns=['Student Email', 'Section', 'Mentor Email','Course', 'Room', 'Capacity', 'Time'])"
   ]
  },
  {
   "cell_type": "code",
   "execution_count": null,
   "metadata": {
    "collapsed": true
   },
   "outputs": [],
   "source": [
    "schedule.to_csv(path('schedule.csv'), index=False)"
   ]
  }
 ],
 "metadata": {
  "kernelspec": {
   "display_name": "Python 3",
   "language": "python",
   "name": "python3"
  },
  "language_info": {
   "codemirror_mode": {
    "name": "ipython",
    "version": 3
   },
   "file_extension": ".py",
   "mimetype": "text/x-python",
   "name": "python",
   "nbconvert_exporter": "python",
   "pygments_lexer": "ipython3",
   "version": "3.6.5"
  }
 },
 "nbformat": 4,
 "nbformat_minor": 2
}
