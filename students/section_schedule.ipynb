{
 "cells": [
  {
   "cell_type": "markdown",
   "metadata": {},
   "source": [
    "# Section Schedule\n",
    "\n",
    "Schedule students to sections based on their preferences. This notebook also contains scripts for generating section control codes for a fully-integrated solution."
   ]
  },
  {
   "cell_type": "markdown",
   "metadata": {},
   "source": [
    "## Setup\n",
    "\n",
    "Import the required packages into the namespace."
   ]
  },
  {
   "cell_type": "code",
   "execution_count": null,
   "metadata": {},
   "outputs": [],
   "source": [
    "import numpy as np\n",
    "import pandas as pd\n",
    "\n",
    "import itertools\n",
    "from typing import NamedTuple"
   ]
  },
  {
   "cell_type": "code",
   "execution_count": null,
   "metadata": {},
   "outputs": [],
   "source": [
    "SEED = sum(ord(c) for c in 'Computer Science Mentors')"
   ]
  },
  {
   "cell_type": "markdown",
   "metadata": {},
   "source": [
    "## Generate control codes"
   ]
  },
  {
   "cell_type": "code",
   "execution_count": null,
   "metadata": {},
   "outputs": [],
   "source": [
    "def generate_control_code(row, length=6):\n",
    "    \"\"\"Return a control code of the desired length, zero-padded as necessary.\"\"\"\n",
    "    return str(abs(hash(tuple(row))))[:length].zfill(length)"
   ]
  },
  {
   "cell_type": "code",
   "execution_count": null,
   "metadata": {},
   "outputs": [],
   "source": [
    "# room_schedule = pd.read_csv('room_schedule.csv')\n",
    "room_schedule = pd.DataFrame.from_records(\n",
    "    [\n",
    "        ('kevinlin1@berkeley.edu', 'CS 61A', 'Soda 283F', '4', 'Mon 11:00 AM'),\n",
    "        ('kevinlin1@berkeley.edu', 'CS 61A', 'Soda 283F', '4', 'Mon 10:00 AM'),\n",
    "    ],\n",
    "    columns=['Email Address', 'Course', 'Room', 'Capacity', 'Time']\n",
    ")\n",
    "\n",
    "room_schedule['Code'] = room_schedule.apply(generate_control_code, axis=1, raw=True)\n",
    "room_schedule = room_schedule.set_index('Code')\n",
    "room_schedule.head()"
   ]
  },
  {
   "cell_type": "markdown",
   "metadata": {},
   "source": [
    "### Export schedule"
   ]
  },
  {
   "cell_type": "code",
   "execution_count": null,
   "metadata": {},
   "outputs": [],
   "source": [
    "room_schedule['Code'].to_csv('control_codes.csv', index=False)"
   ]
  },
  {
   "cell_type": "markdown",
   "metadata": {},
   "source": [
    "## Input data\n",
    "\n",
    "Load student preferences from a Google Form."
   ]
  },
  {
   "cell_type": "code",
   "execution_count": null,
   "metadata": {},
   "outputs": [],
   "source": [
    "EMAIL = 'Email Address'\n",
    "FIRST = 'First choice'\n",
    "SECOND = 'Second choice'\n",
    "THIRD = 'Third choice'\n",
    "BACKUP = 'Backup'\n",
    "RANKS = (FIRST, SECOND, THIRD)\n",
    "\n",
    "# preferences = pd.read_csv('preferences.csv', dtype=str)\n",
    "preferences = pd.DataFrame.from_records(\n",
    "    [\n",
    "        ('kvnln@berkeley.edu', 'CS 61A', room_schedule.index[0], room_schedule.index[1], '', ''),\n",
    "        ('kvnln@berkeley.edu', 'CS 61A', room_schedule.index[0], room_schedule.index[1], '', ''),\n",
    "    ],\n",
    "    columns=[EMAIL, 'Course', FIRST, SECOND, THIRD, BACKUP]\n",
    ")\n",
    "\n",
    "preferences = pd.concat([\n",
    "    preferences.drop(columns=BACKUP).rename(columns={EMAIL: 'Email'}),\n",
    "    preferences[BACKUP].str.split(',', expand=True).fillna('').astype(str)\n",
    "], axis=1).rename(columns=str)"
   ]
  },
  {
   "cell_type": "markdown",
   "metadata": {},
   "source": [
    "## Greedy algorithm\n",
    "\n",
    "Solve the problem using a simple greedy algorithm with randomized restarts."
   ]
  },
  {
   "cell_type": "code",
   "execution_count": null,
   "metadata": {},
   "outputs": [],
   "source": [
    "class Solution(NamedTuple):\n",
    "    \"\"\"Solution to an assignment problem.\"\"\"\n",
    "    assignments: dict\n",
    "    stats: dict\n",
    "\n",
    "    def metric(solution, weights={FIRST: 3, SECOND: 2, THIRD: 1}):\n",
    "        \"\"\"\n",
    "        Given a Solution with a stats histogram, assign weights to each rank to\n",
    "        evaluate the overall quality of the solution based on the weights.\n",
    "        \"\"\"\n",
    "        return sum(count * weights[rank] for rank, count in solution.stats.items())\n",
    "\n",
    "    @property\n",
    "    def score(self):\n",
    "        return Solution.metric(self)\n",
    "\n",
    "class Assignment(NamedTuple):\n",
    "    email: str\n",
    "    course: str\n",
    "\n",
    "def greedy(preferences, schedule, ranks=RANKS, preference_slice=None):\n",
    "    preferences = preferences.rename(columns=str.lower)\n",
    "    schedule = schedule.rename(columns=str.lower)\n",
    "    if preference_slice is None:\n",
    "        preference_slice = slice(pd.Index(preferences.columns).get_loc(FIRST.lower()),\n",
    "                                 len(preferences.columns))\n",
    "    assigned = set()\n",
    "    assignments = {}\n",
    "    stats = {rank: 0 for rank in ranks}\n",
    "    for row in preferences.itertuples(index=False):\n",
    "        assignment = Assignment(row.email, row.course)\n",
    "        if assignment not in assignments:\n",
    "            for rank, preference in itertools.zip_longest(ranks, row[preference_slice]):\n",
    "                assert preference in schedule.index, 'preference not found in schedule'\n",
    "                assert row.course == schedule.loc[preference].course, 'desired course not found'\n",
    "                if preference not in assigned:\n",
    "                    assignments[assignment] = preference\n",
    "                    if rank in stats:\n",
    "                        stats[rank] += 1\n",
    "                    assigned.add(preference)\n",
    "                    break\n",
    "    return Solution(assignments, stats)"
   ]
  },
  {
   "cell_type": "code",
   "execution_count": null,
   "metadata": {},
   "outputs": [],
   "source": [
    "LIMIT = 1000\n",
    "rand = np.random.RandomState(SEED)"
   ]
  },
  {
   "cell_type": "code",
   "execution_count": null,
   "metadata": {},
   "outputs": [],
   "source": [
    "best = max((\n",
    "    greedy(preferences.sample(frac=1, random_state=rand), room_schedule)\n",
    "    for _ in range(LIMIT)\n",
    "), key=Solution.metric)\n",
    "best.stats"
   ]
  },
  {
   "cell_type": "code",
   "execution_count": null,
   "metadata": {},
   "outputs": [],
   "source": [
    "best.assignments"
   ]
  },
  {
   "cell_type": "markdown",
   "metadata": {},
   "source": [
    "### Export schedule"
   ]
  },
  {
   "cell_type": "code",
   "execution_count": null,
   "metadata": {},
   "outputs": [],
   "source": [
    "greedy_schedule = pd.DataFrame.from_records((\n",
    "    (assignment.email, assignment.course, section)\n",
    "    for assignment, section in best.assignments.items()\n",
    "), columns=['Email Address', 'Course', 'Assignment'])"
   ]
  },
  {
   "cell_type": "code",
   "execution_count": null,
   "metadata": {},
   "outputs": [],
   "source": [
    "greedy_schedule.to_csv('greedy_schedule.csv', index=False)"
   ]
  },
  {
   "cell_type": "markdown",
   "metadata": {},
   "source": [
    "## Mathematic algorithm\n",
    "\n",
    "Solve the problem with a mathematic approach using zero-one (binary) linear programming."
   ]
  },
  {
   "cell_type": "code",
   "execution_count": null,
   "metadata": {},
   "outputs": [],
   "source": [
    "# Determine the best way to formulate the problem"
   ]
  },
  {
   "cell_type": "markdown",
   "metadata": {},
   "source": [
    "### Export schedule"
   ]
  },
  {
   "cell_type": "code",
   "execution_count": null,
   "metadata": {},
   "outputs": [],
   "source": [
    "section_schedule.to_csv('section_schedule.csv', index=False)"
   ]
  }
 ],
 "metadata": {
  "kernelspec": {
   "display_name": "Python 3",
   "language": "python",
   "name": "python3"
  },
  "language_info": {
   "codemirror_mode": {
    "name": "ipython",
    "version": 3
   },
   "file_extension": ".py",
   "mimetype": "text/x-python",
   "name": "python",
   "nbconvert_exporter": "python",
   "pygments_lexer": "ipython3",
   "version": "3.6.3"
  }
 },
 "nbformat": 4,
 "nbformat_minor": 2
}
