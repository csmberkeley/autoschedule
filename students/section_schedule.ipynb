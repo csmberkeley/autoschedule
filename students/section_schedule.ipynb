{
 "cells": [
  {
   "cell_type": "markdown",
   "metadata": {},
   "source": [
    "# Section Schedule\n",
    "\n",
    "Schedule students to sections based on their preferences. This notebook also contains scripts for generating section control codes for a fully-integrated solution."
   ]
  },
  {
   "cell_type": "markdown",
   "metadata": {},
   "source": [
    "## Setup\n",
    "\n",
    "Import the required packages into the namespace."
   ]
  },
  {
   "cell_type": "code",
   "execution_count": null,
   "metadata": {},
   "outputs": [],
   "source": [
    "import os\n",
    "\n",
    "import numpy as np\n",
    "import pandas as pd\n",
    "\n",
    "import itertools\n",
    "from typing import NamedTuple"
   ]
  },
  {
   "cell_type": "code",
   "execution_count": null,
   "metadata": {},
   "outputs": [],
   "source": [
    "# Define the course folder where the input files can be found\n",
    "COURSE = 'cs70'"
   ]
  },
  {
   "cell_type": "code",
   "execution_count": null,
   "metadata": {},
   "outputs": [],
   "source": [
    "def path(filename, directory=COURSE):\n",
    "    return os.path.join(directory, filename)"
   ]
  },
  {
   "cell_type": "code",
   "execution_count": null,
   "metadata": {},
   "outputs": [],
   "source": [
    "SEED = sum(ord(c) for c in 'Computer Science Mentors')"
   ]
  },
  {
   "cell_type": "markdown",
   "metadata": {},
   "source": [
    "## Generate control codes"
   ]
  },
  {
   "cell_type": "code",
   "execution_count": null,
   "metadata": {},
   "outputs": [],
   "source": [
    "CODE   = 'Code'\n",
    "EMAIL  = 'Email Address'\n",
    "COURSE = 'Course'\n",
    "ROOM   = 'Room'\n",
    "CAP    = 'Capacity'\n",
    "TIME   = 'Time'"
   ]
  },
  {
   "cell_type": "markdown",
   "metadata": {},
   "source": [
    "Import an existing schedule, if it exists.\n",
    "\n",
    "Section data should be specified in the format,\n",
    "\n",
    "```\n",
    "'Email Address', 'Course', 'Room', 'Capacity', 'Time'\n",
    "```\n",
    "\n",
    "Capacity is important as we need to determine how many students can enroll into that section. If no capacity for a room is provided (or a non-integer capacity), then we will use the default capacity specified later."
   ]
  },
  {
   "cell_type": "code",
   "execution_count": null,
   "metadata": {},
   "outputs": [],
   "source": [
    "section_schedule = pd.read_csv(path('schedule.csv')).set_index(CODE)\n",
    "section_schedule.head()"
   ]
  },
  {
   "cell_type": "code",
   "execution_count": null,
   "metadata": {},
   "outputs": [],
   "source": [
    "def generate_control_code(row, length=6):\n",
    "    \"\"\"Return a control code of the desired length, zero-padded as necessary.\"\"\"\n",
    "    return str(abs(hash(tuple(row))))[:length].zfill(length)"
   ]
  },
  {
   "cell_type": "code",
   "execution_count": null,
   "metadata": {},
   "outputs": [],
   "source": [
    "# section_schedule = pd.read_csv(os.path.join(FOLDER, 'room-schedule.csv'))\n",
    "section_schedule = pd.DataFrame.from_records(\n",
    "    [\n",
    "        ('kevinlin1@berkeley.edu', 'CS 61A', 'Soda 283F', 4, 'Mon 11:00 AM'),\n",
    "        ('kevinlin1@berkeley.edu', 'CS 61A', 'Soda 283F', 4, 'Mon 10:00 AM'),\n",
    "    ],\n",
    "    columns=[EMAIL, COURSE, ROOM, CAP, TIME]\n",
    ")\n",
    "\n",
    "section_schedule[CODE] = section_schedule.apply(generate_control_code, axis=1, raw=True)\n",
    "section_schedule = section_schedule.set_index(CODE)\n",
    "section_schedule"
   ]
  },
  {
   "cell_type": "markdown",
   "metadata": {},
   "source": [
    "### Export schedule"
   ]
  },
  {
   "cell_type": "code",
   "execution_count": null,
   "metadata": {},
   "outputs": [],
   "source": [
    "section_schedule[CODE].to_csv(path('control-codes.csv'), index=False)"
   ]
  },
  {
   "cell_type": "code",
   "execution_count": null,
   "metadata": {},
   "outputs": [],
   "source": [
    "section_schedule.to_csv(path('section-schedule.csv')"
   ]
  },
  {
   "cell_type": "markdown",
   "metadata": {},
   "source": [
    "## Input data\n",
    "\n",
    "Load student preferences from a Google Form."
   ]
  },
  {
   "cell_type": "code",
   "execution_count": null,
   "metadata": {},
   "outputs": [],
   "source": [
    "EMAIL  = 'Username'\n",
    "COURSE = 'Course'\n",
    "FIRST  = 'First option'\n",
    "SECOND = 'Second option'\n",
    "THIRD  = 'Third option'\n",
    "BACKUP = 'Backup options'\n",
    "RANKS  = [FIRST, SECOND, THIRD]"
   ]
  },
  {
   "cell_type": "code",
   "execution_count": null,
   "metadata": {},
   "outputs": [],
   "source": [
    "# Read the preferences, processing the section control codes as strings\n",
    "preferences = pd.read_csv(path('preferences.csv'), dtype=str)\n",
    "preferences = pd.concat([\n",
    "    preferences[[EMAIL, COURSE] + RANKS].rename(columns={EMAIL: 'Email'}),\n",
    "    preferences[BACKUP].str.split(',', expand=True).fillna('').astype(str)\n",
    "], axis=1).rename(columns=str)"
   ]
  },
  {
   "cell_type": "markdown",
   "metadata": {},
   "source": [
    "Give enrollment priority to a subset of the students."
   ]
  },
  {
   "cell_type": "code",
   "execution_count": null,
   "metadata": {},
   "outputs": [],
   "source": [
    "EMAIL = 'Email Address'\n",
    "PREF  = 'Preferred'"
   ]
  },
  {
   "cell_type": "code",
   "execution_count": null,
   "metadata": {},
   "outputs": [],
   "source": [
    "priority = pd.read_csv(path('priority.csv'), dtype=str)[EMAIL]\n",
    "preferences[PREF] = preferences['Email'].isin(priority)"
   ]
  },
  {
   "cell_type": "markdown",
   "metadata": {},
   "source": [
    "## Greedy algorithm\n",
    "\n",
    "Solve the problem using a simple greedy algorithm with randomized restarts."
   ]
  },
  {
   "cell_type": "code",
   "execution_count": null,
   "metadata": {},
   "outputs": [],
   "source": [
    "class Solution(NamedTuple):\n",
    "    \"\"\"Solution to an assignment problem.\"\"\"\n",
    "    assignments: dict\n",
    "    stats: dict\n",
    "\n",
    "    def metric(self, weights={FIRST: 3, SECOND: 2, THIRD: 1}):\n",
    "        \"\"\"Assign weights to each rank to evaluate the quality of the solution.\"\"\"\n",
    "        return sum(count * weights[rank] for rank, count in self.stats.items())\n",
    "\n",
    "class Assignment(NamedTuple):\n",
    "    email: str\n",
    "    course: str\n",
    "\n",
    "def generate_preference_slice(preferences, first=FIRST):\n",
    "    return slice(pd.Index(preferences.columns).get_loc(first.lower()),\n",
    "                 len(preferences.columns))\n",
    "        \n",
    "def validate(preferences, schedule, ranks=RANKS, preference_slice=None):\n",
    "    \"\"\"Validate the preferences to check for errors in student input.\"\"\"\n",
    "    preferences = preferences.rename(columns=str.lower)\n",
    "    schedule = schedule.rename(columns=str.lower)\n",
    "    if preference_slice is None:\n",
    "        preference_slice = generate_preference_slice(preferences)\n",
    "    valid = True\n",
    "    for row in preferences.itertuples(index=False):\n",
    "        for rank, preference in itertools.zip_longest(ranks, row[preference_slice]):\n",
    "            if preference not in schedule.index:\n",
    "                print(f'{row}: {preference} not found in schedule')\n",
    "                valid = False\n",
    "            if row.course != schedule.loc[preference].course:\n",
    "                print(f'{row}: {course} not found')\n",
    "                valid = False\n",
    "    return valid\n",
    "\n",
    "def greedy(preferences, schedule, ranks=RANKS, preference_slice=None):\n",
    "    \"\"\"Return a naive greedy algorithm for assigning each student in the preferences list\n",
    "    to a section in the schedule based on the ranks.\n",
    "    \"\"\"\n",
    "    preferences = preferences.rename(columns=str.lower)\n",
    "    schedule = schedule.rename(columns=str.lower)\n",
    "    if preference_slice is None:\n",
    "        preference_slice = generate_preference_slice(preferences)\n",
    "    enrolled = {code: capacity for code, capacity in schedule[[CAP]].itertuples()}\n",
    "    assignments = {}\n",
    "    stats = {rank: 0 for rank in ranks}\n",
    "    for row in preferences.itertuples(index=False):\n",
    "        assignment = Assignment(row.email, row.course)\n",
    "        if assignment not in assignments:\n",
    "            for rank, preference in itertools.zip_longest(ranks, row[preference_slice]):\n",
    "                if (preference in schedule.index\n",
    "                    and row.course != schedule.loc[preference].course\n",
    "                    and enrolled[preference] > 0):\n",
    "                    # Make an assignment if the preference exists, matches the course, and\n",
    "                    # if there is space still left in the section\n",
    "                    assignments[assignment] = preference\n",
    "                    if rank in stats:\n",
    "                        stats[rank] += 1\n",
    "                    enrolled[preference] -= 1\n",
    "                    break\n",
    "    return Solution(assignments, stats)"
   ]
  },
  {
   "cell_type": "code",
   "execution_count": null,
   "metadata": {},
   "outputs": [],
   "source": [
    "validate(preferences, section_schedule)"
   ]
  },
  {
   "cell_type": "code",
   "execution_count": null,
   "metadata": {},
   "outputs": [],
   "source": [
    "LIMIT = 1000\n",
    "rand = np.random.RandomState(SEED)"
   ]
  },
  {
   "cell_type": "code",
   "execution_count": null,
   "metadata": {},
   "outputs": [],
   "source": [
    "def sample(preferences, priority=None):\n",
    "    \"\"\"Resample the preferences, prioritizing by True/False column value.\"\"\"\n",
    "    if priority is None:\n",
    "        return preferences.sample(frac=1, random_state=rand)\n",
    "    return (preferences[preferences[priority]]\n",
    "            .sample(frac=1, random_state=rand)\n",
    "            .append(preferences[~preferences[priority]]\n",
    "                    .sample(frac=1, random_state=rand)))\n",
    "\n",
    "best = max((greedy(sample(preferences, priority=PREF), section_schedule)\n",
    "            for _ in range(LIMIT)), key=Solution.metric)\n",
    "best.stats"
   ]
  },
  {
   "cell_type": "code",
   "execution_count": null,
   "metadata": {},
   "outputs": [],
   "source": [
    "len(best.assignments)"
   ]
  },
  {
   "cell_type": "code",
   "execution_count": null,
   "metadata": {},
   "outputs": [],
   "source": [
    "best.assignments"
   ]
  },
  {
   "cell_type": "markdown",
   "metadata": {},
   "source": [
    "### Export schedule"
   ]
  },
  {
   "cell_type": "code",
   "execution_count": null,
   "metadata": {},
   "outputs": [],
   "source": [
    "STUDENT_EMAIL = 'Student Email'\n",
    "SECTION       = 'Section'\n",
    "MENTOR_EMAIL  = 'Mentor Email'\n",
    "COURSE        = 'Course'\n",
    "ROOM          = 'Room'\n",
    "CAP           = 'Capacity'\n",
    "TIME          = 'Time'"
   ]
  },
  {
   "cell_type": "code",
   "execution_count": null,
   "metadata": {},
   "outputs": [],
   "source": [
    "greedy_schedule = pd.DataFrame.from_records((\n",
    "    (assignment.email, section) + tuple(section_schedule.loc[section])\n",
    "    for assignment, section in best.assignments.items()\n",
    "), columns=[STUDENT_EMAIL, SECTION, MENTOR_EMAIL, COURSE, ROOM, CAP, TIME])"
   ]
  },
  {
   "cell_type": "code",
   "execution_count": null,
   "metadata": {},
   "outputs": [],
   "source": [
    "greedy_schedule.to_csv(path('greedy-schedule.csv'), index=False)"
   ]
  }
 ],
 "metadata": {
  "kernelspec": {
   "display_name": "Python 3",
   "language": "python",
   "name": "python3"
  },
  "language_info": {
   "codemirror_mode": {
    "name": "ipython",
    "version": 3
   },
   "file_extension": ".py",
   "mimetype": "text/x-python",
   "name": "python",
   "nbconvert_exporter": "python",
   "pygments_lexer": "ipython3",
   "version": "3.6.3"
  }
 },
 "nbformat": 4,
 "nbformat_minor": 2
}
